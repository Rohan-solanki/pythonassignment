{
 "cells": [
  {
   "cell_type": "markdown",
   "id": "cf1a2d6c",
   "metadata": {},
   "source": [
    "\n",
    "# Python Basics Assignment\n",
    "\n",
    "**Name:** Rohan Solanki  \n",
    "**Date:** 15 July 2025  \n",
    "**Subject:** Python .  \n"
   ]
  },
  {
   "cell_type": "markdown",
   "id": "017184bc",
   "metadata": {},
   "source": [
    "### 1. In the below elements which of them are values or an expression?"
   ]
  },
  {
   "cell_type": "code",
   "execution_count": null,
   "id": "a99c3c84-40de-419d-ac73-e5345ca49aa3",
   "metadata": {},
   "outputs": [],
   "source": [
    "| Element   | Classification | Reason                       |\n",
    "| --------- | -------------- | ---------------------------- |\n",
    "|   *       | Expression     | Multiplication operator      |\n",
    "|  'hello'  | Value          | String literal               |\n",
    "|  -87.8    | Value          | Float (negative number)      |\n",
    "|   -       | Expression     | Subtraction (or unary minus) |\n",
    "|   /       | Expression     | Division operator            |\n",
    "|   +       | Expression     | Addition operator            |\n",
    "|   6       | Value          | Integer                      |\n"
   ]
  },
  {
   "cell_type": "code",
   "execution_count": null,
   "id": "dc68283e",
   "metadata": {},
   "outputs": [],
   "source": [
    "# Values: 'hello', -87.8, 6\n",
    "# Expressions: *, -, /, +\n",
    "\n",
    "# Example classification\n",
    "elements = ['*', \"'hello'\", -87.8, '-', '/', '+', 6]\n",
    "print(\"Values: 'hello', -87.8, 6\")\n",
    "print(\"Expressions: *, -, /, +\")"
   ]
  },
  {
   "cell_type": "markdown",
   "id": "a449ddfa",
   "metadata": {},
   "source": [
    "### 2. What is the difference between string and variable?"
   ]
  },
  {
   "cell_type": "markdown",
   "id": "7b520a98",
   "metadata": {},
   "source": [
    "\n",
    "- **String**: A string is a sequence of characters, written inside quotes and type of variable. Example: `'Hello'`\n",
    "- **Variable**: A variable is a name used to store a value. Example: `greeting = 'Hello'`\n"
   ]
  },
  {
   "cell_type": "code",
   "execution_count": 1,
   "id": "21071a49-68ec-43d5-89d0-3215417e6135",
   "metadata": {},
   "outputs": [
    {
     "data": {
      "text/plain": [
       "str"
      ]
     },
     "execution_count": 1,
     "metadata": {},
     "output_type": "execute_result"
    }
   ],
   "source": [
    "#example\n",
    "name = \"rohan solanki\"    #here name is a variable.\n",
    "type(name)                #here rohan solanki is the string type value"
   ]
  },
  {
   "cell_type": "markdown",
   "id": "4bf3e21b",
   "metadata": {},
   "source": [
    "### 3. Describe three different data types."
   ]
  },
  {
   "cell_type": "markdown",
   "id": "53643437",
   "metadata": {},
   "source": [
    "\n",
    "1. **int**: An integer is a whole number — it does not have a decimal point., e.g., `5`, `-2`\n",
    "2. **float**: A float is a number that has a decimal point. , e.g., `3.14`, `-87.8`\n",
    "3. **str**:A string is a collection of characters like letters, numbers, or symbols, enclosed in quotes (' ' or \" \")., e.g., `'hello'`, `\"Python\"`\n"
   ]
  },
  {
   "cell_type": "code",
   "execution_count": null,
   "id": "76c1b00d-2fb7-4a71-880b-ed0a23698020",
   "metadata": {},
   "outputs": [],
   "source": [
    "#example\n",
    "num1 = 26       #value 26 is int type value\n",
    "num2 = 24.25    #value 24.25 is float type value\n",
    "name = \"rohan solanki\"  #\"rohan solanki\" is a string"
   ]
  },
  {
   "cell_type": "markdown",
   "id": "98375829",
   "metadata": {},
   "source": [
    "### 4. What is an expression made up of? What do all expressions do?"
   ]
  },
  {
   "cell_type": "markdown",
   "id": "746167ee",
   "metadata": {},
   "source": [
    "\n",
    "- An expression is made up of values and operators.\n",
    "- All expressions evaluate to a single value.\n"
   ]
  },
  {
   "cell_type": "markdown",
   "id": "87adffb2",
   "metadata": {},
   "source": [
    "### 5. What is the difference between an expression and a statement?"
   ]
  },
  {
   "cell_type": "markdown",
   "id": "93a916b5",
   "metadata": {},
   "source": [
    "\n",
    "- **Expression**: Produces a value. Example: `2 + 3`\n",
    "- **Statement**: Performs an action. Example: `spam = 10` is a statement.\n"
   ]
  },
  {
   "cell_type": "code",
   "execution_count": null,
   "id": "c21a199b-dbd2-4f24-9e1b-1f010726d631",
   "metadata": {},
   "outputs": [],
   "source": [
    "#example\n",
    "x = 2 + 3       #2 + 3 is an expression because it returns 5.\n",
    "spam = 10       #statement\n",
    "if spam > 5\n",
    "     print(\"spam is greater then 5\")\n"
   ]
  },
  {
   "cell_type": "markdown",
   "id": "69c15249",
   "metadata": {},
   "source": [
    "### 6. After running the following code, what does the variable bacon contain?"
   ]
  },
  {
   "cell_type": "code",
   "execution_count": null,
   "id": "95a6c46c",
   "metadata": {},
   "outputs": [],
   "source": [
    "bacon = 22\n",
    "bacon + 1  # This line does not change the value of bacon\n",
    "print(\"Value of bacon:\", bacon)  # Output will be 22"
   ]
  },
  {
   "cell_type": "markdown",
   "id": "e36835b7",
   "metadata": {},
   "source": [
    "### 7. What should the values of the following two terms be?"
   ]
  },
  {
   "cell_type": "code",
   "execution_count": null,
   "id": "d02032ab",
   "metadata": {},
   "outputs": [],
   "source": [
    "print(\"'spam' + 'spamspam' =\", 'spam' + 'spamspam')  # spamspamspam\n",
    "print(\"'spam' * 3 =\", 'spam' * 3)  # spamspamspam"
   ]
  },
  {
   "cell_type": "markdown",
   "id": "eb88a0eb",
   "metadata": {},
   "source": [
    "### 8. Why is 'eggs' a valid variable name while '100' is invalid?"
   ]
  },
  {
   "cell_type": "markdown",
   "id": "99633c80",
   "metadata": {},
   "source": [
    "\n",
    "- `eggs` is valid because variable names can start with a letter or underscore.\n",
    "- `100` is invalid because variable names cannot start with a number.\n"
   ]
  },
  {
   "cell_type": "code",
   "execution_count": null,
   "id": "5690753d-5066-44a0-8a03-b32d5dcf0252",
   "metadata": {},
   "outputs": [],
   "source": [
    "#example\n",
    "num = 10 #num is valid variable.\n",
    "1num = 2 # 1 num is not valid varible."
   ]
  },
  {
   "cell_type": "markdown",
   "id": "125b82d4",
   "metadata": {},
   "source": [
    "### 9. What three functions can be used to get the integer, floating-point number, or string version of a value?"
   ]
  },
  {
   "cell_type": "code",
   "execution_count": 2,
   "id": "cf31dd2d",
   "metadata": {},
   "outputs": [
    {
     "name": "stdout",
     "output_type": "stream",
     "text": [
      "42\n",
      "42.0\n",
      "42\n"
     ]
    }
   ],
   "source": [
    "# int(), float(), and str()\n",
    "x = \"42\"\n",
    "print(int(x))    # 42\n",
    "print(float(x))  # 42.0\n",
    "print(str(42))   # '42'"
   ]
  },
  {
   "cell_type": "markdown",
   "id": "649b9f4d",
   "metadata": {},
   "source": [
    "### 10. Why does this expression cause an error? How can you fix it?"
   ]
  },
  {
   "cell_type": "code",
   "execution_count": null,
   "id": "eac8fdbf",
   "metadata": {},
   "outputs": [],
   "source": [
    "# 'I have eaten ' + 99 + ' burritos.'  # Causes error because 99 is int\n",
    "\n",
    "# Fixed version:\n",
    "print('I have eaten ' + str(99) + ' burritos.')"
   ]
  },
  {
   "cell_type": "code",
   "execution_count": null,
   "id": "52de28c1-ee2c-4cc9-add1-e6b73433dc12",
   "metadata": {},
   "outputs": [],
   "source": []
  }
 ],
 "metadata": {
  "kernelspec": {
   "display_name": "Python [conda env:base] *",
   "language": "python",
   "name": "conda-base-py"
  },
  "language_info": {
   "codemirror_mode": {
    "name": "ipython",
    "version": 3
   },
   "file_extension": ".py",
   "mimetype": "text/x-python",
   "name": "python",
   "nbconvert_exporter": "python",
   "pygments_lexer": "ipython3",
   "version": "3.13.5"
  }
 },
 "nbformat": 4,
 "nbformat_minor": 5
}
